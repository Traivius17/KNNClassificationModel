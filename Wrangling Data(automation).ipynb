{
 "cells": [
  {
   "cell_type": "markdown",
   "id": "3e47794c",
   "metadata": {},
   "source": [
    "## Wrangling Data: \n",
    "### Manual and Automation Examples\n",
    "### Stolen Vehicles With Dictionary Comprehension and enumerate()"
   ]
  },
  {
   "cell_type": "code",
   "execution_count": 1,
   "id": "48545bad",
   "metadata": {},
   "outputs": [],
   "source": [
    "import numpy as np\n",
    "import pandas as pd\n",
    "import matplotlib.pyplot as plt\n",
    "import seaborn as sns\n",
    "from sklearn.preprocessing import StandardScaler\n",
    "from sklearn.model_selection import train_test_split\n",
    "from sklearn.neighbors import KNeighborsClassifier\n",
    "from sklearn.metrics import classification_report\n",
    "from sklearn.metrics import confusion_matrix\n",
    "%matplotlib inline"
   ]
  },
  {
   "cell_type": "markdown",
   "id": "45a7e297",
   "metadata": {},
   "source": [
    "### Reading Data into dataframe\n",
    "####Producing first five elements of csv to provide a visual\n",
    "\n"
   ]
  },
  {
   "cell_type": "code",
   "execution_count": 2,
   "id": "445d1b16",
   "metadata": {},
   "outputs": [
    {
     "data": {
      "text/html": [
       "<div>\n",
       "<style scoped>\n",
       "    .dataframe tbody tr th:only-of-type {\n",
       "        vertical-align: middle;\n",
       "    }\n",
       "\n",
       "    .dataframe tbody tr th {\n",
       "        vertical-align: top;\n",
       "    }\n",
       "\n",
       "    .dataframe thead th {\n",
       "        text-align: right;\n",
       "    }\n",
       "</style>\n",
       "<table border=\"1\" class=\"dataframe\">\n",
       "  <thead>\n",
       "    <tr style=\"text-align: right;\">\n",
       "      <th></th>\n",
       "      <th>make</th>\n",
       "      <th>model</th>\n",
       "      <th>year</th>\n",
       "      <th>color</th>\n",
       "      <th>curr_mileage</th>\n",
       "      <th>purchase_price</th>\n",
       "      <th>curr_value</th>\n",
       "      <th>stolen</th>\n",
       "    </tr>\n",
       "  </thead>\n",
       "  <tbody>\n",
       "    <tr>\n",
       "      <th>0</th>\n",
       "      <td>Volkswagen</td>\n",
       "      <td>GTI</td>\n",
       "      <td>2015</td>\n",
       "      <td>black</td>\n",
       "      <td>152000</td>\n",
       "      <td>32000</td>\n",
       "      <td>9000</td>\n",
       "      <td>0</td>\n",
       "    </tr>\n",
       "    <tr>\n",
       "      <th>1</th>\n",
       "      <td>Ford</td>\n",
       "      <td>Focus</td>\n",
       "      <td>2008</td>\n",
       "      <td>blue</td>\n",
       "      <td>225000</td>\n",
       "      <td>14500</td>\n",
       "      <td>3500</td>\n",
       "      <td>0</td>\n",
       "    </tr>\n",
       "    <tr>\n",
       "      <th>2</th>\n",
       "      <td>Dodge</td>\n",
       "      <td>Durango</td>\n",
       "      <td>1998</td>\n",
       "      <td>blue</td>\n",
       "      <td>235500</td>\n",
       "      <td>19000</td>\n",
       "      <td>2000</td>\n",
       "      <td>0</td>\n",
       "    </tr>\n",
       "    <tr>\n",
       "      <th>3</th>\n",
       "      <td>BMW</td>\n",
       "      <td>325i</td>\n",
       "      <td>2004</td>\n",
       "      <td>silver</td>\n",
       "      <td>104200</td>\n",
       "      <td>32000</td>\n",
       "      <td>8200</td>\n",
       "      <td>0</td>\n",
       "    </tr>\n",
       "    <tr>\n",
       "      <th>4</th>\n",
       "      <td>Ford</td>\n",
       "      <td>Mustang</td>\n",
       "      <td>1974</td>\n",
       "      <td>yellow</td>\n",
       "      <td>325000</td>\n",
       "      <td>4200</td>\n",
       "      <td>7800</td>\n",
       "      <td>1</td>\n",
       "    </tr>\n",
       "  </tbody>\n",
       "</table>\n",
       "</div>"
      ],
      "text/plain": [
       "         make    model  year   color  curr_mileage  purchase_price  \\\n",
       "0  Volkswagen      GTI  2015   black        152000           32000   \n",
       "1        Ford    Focus  2008    blue        225000           14500   \n",
       "2       Dodge  Durango  1998    blue        235500           19000   \n",
       "3         BMW     325i  2004  silver        104200           32000   \n",
       "4        Ford  Mustang  1974  yellow        325000            4200   \n",
       "\n",
       "   curr_value  stolen  \n",
       "0        9000       0  \n",
       "1        3500       0  \n",
       "2        2000       0  \n",
       "3        8200       0  \n",
       "4        7800       1  "
      ]
     },
     "execution_count": 2,
     "metadata": {},
     "output_type": "execute_result"
    }
   ],
   "source": [
    "vehicles = pd.read_csv('vehicles.csv')\n",
    "vehicles.head()"
   ]
  },
  {
   "cell_type": "code",
   "execution_count": 3,
   "id": "d58f0846",
   "metadata": {},
   "outputs": [
    {
     "data": {
      "text/plain": [
       "array(['Volkswagen', 'Ford', 'Dodge', 'BMW', 'Honda', 'Toyota', 'Jeep',\n",
       "       'Nissan', 'Chevrolet', 'Subaru', 'Lexus'], dtype=object)"
      ]
     },
     "execution_count": 3,
     "metadata": {},
     "output_type": "execute_result"
    }
   ],
   "source": [
    "vehicles.make.unique()"
   ]
  },
  {
   "cell_type": "markdown",
   "id": "b172e0cc",
   "metadata": {},
   "source": [
    "### Here, I manually created a dictionary and associating key values to them to be used as a reference allowing me to turn categorical data into integer data. Classification data needs to be discrete in order to perform proper analysis. \n",
    "\n"
   ]
  },
  {
   "cell_type": "code",
   "execution_count": 4,
   "id": "a21d7bc8",
   "metadata": {},
   "outputs": [
    {
     "data": {
      "text/html": [
       "<div>\n",
       "<style scoped>\n",
       "    .dataframe tbody tr th:only-of-type {\n",
       "        vertical-align: middle;\n",
       "    }\n",
       "\n",
       "    .dataframe tbody tr th {\n",
       "        vertical-align: top;\n",
       "    }\n",
       "\n",
       "    .dataframe thead th {\n",
       "        text-align: right;\n",
       "    }\n",
       "</style>\n",
       "<table border=\"1\" class=\"dataframe\">\n",
       "  <thead>\n",
       "    <tr style=\"text-align: right;\">\n",
       "      <th></th>\n",
       "      <th>make</th>\n",
       "      <th>model</th>\n",
       "      <th>year</th>\n",
       "      <th>color</th>\n",
       "      <th>curr_mileage</th>\n",
       "      <th>purchase_price</th>\n",
       "      <th>curr_value</th>\n",
       "      <th>stolen</th>\n",
       "    </tr>\n",
       "  </thead>\n",
       "  <tbody>\n",
       "    <tr>\n",
       "      <th>0</th>\n",
       "      <td>0</td>\n",
       "      <td>GTI</td>\n",
       "      <td>2015</td>\n",
       "      <td>black</td>\n",
       "      <td>152000</td>\n",
       "      <td>32000</td>\n",
       "      <td>9000</td>\n",
       "      <td>0</td>\n",
       "    </tr>\n",
       "    <tr>\n",
       "      <th>1</th>\n",
       "      <td>1</td>\n",
       "      <td>Focus</td>\n",
       "      <td>2008</td>\n",
       "      <td>blue</td>\n",
       "      <td>225000</td>\n",
       "      <td>14500</td>\n",
       "      <td>3500</td>\n",
       "      <td>0</td>\n",
       "    </tr>\n",
       "    <tr>\n",
       "      <th>2</th>\n",
       "      <td>2</td>\n",
       "      <td>Durango</td>\n",
       "      <td>1998</td>\n",
       "      <td>blue</td>\n",
       "      <td>235500</td>\n",
       "      <td>19000</td>\n",
       "      <td>2000</td>\n",
       "      <td>0</td>\n",
       "    </tr>\n",
       "    <tr>\n",
       "      <th>3</th>\n",
       "      <td>3</td>\n",
       "      <td>325i</td>\n",
       "      <td>2004</td>\n",
       "      <td>silver</td>\n",
       "      <td>104200</td>\n",
       "      <td>32000</td>\n",
       "      <td>8200</td>\n",
       "      <td>0</td>\n",
       "    </tr>\n",
       "    <tr>\n",
       "      <th>4</th>\n",
       "      <td>1</td>\n",
       "      <td>Mustang</td>\n",
       "      <td>1974</td>\n",
       "      <td>yellow</td>\n",
       "      <td>325000</td>\n",
       "      <td>4200</td>\n",
       "      <td>7800</td>\n",
       "      <td>1</td>\n",
       "    </tr>\n",
       "  </tbody>\n",
       "</table>\n",
       "</div>"
      ],
      "text/plain": [
       "   make    model  year   color  curr_mileage  purchase_price  curr_value  \\\n",
       "0     0      GTI  2015   black        152000           32000        9000   \n",
       "1     1    Focus  2008    blue        225000           14500        3500   \n",
       "2     2  Durango  1998    blue        235500           19000        2000   \n",
       "3     3     325i  2004  silver        104200           32000        8200   \n",
       "4     1  Mustang  1974  yellow        325000            4200        7800   \n",
       "\n",
       "   stolen  \n",
       "0       0  \n",
       "1       0  \n",
       "2       0  \n",
       "3       0  \n",
       "4       1  "
      ]
     },
     "execution_count": 4,
     "metadata": {},
     "output_type": "execute_result"
    }
   ],
   "source": [
    " map_make = {'Volkswagen':0, 'Ford':1, 'Dodge':2, 'BMW':3, 'Honda':4, 'Toyota':5, 'Jeep':6,\n",
    "       'Nissan':7, 'Chevrolet':8, 'Subaru':9, 'Lexus':10}\n",
    "vehicles.replace({'make': map_make}, inplace=True)\n",
    "vehicles.head()"
   ]
  },
  {
   "cell_type": "markdown",
   "id": "cbb00774",
   "metadata": {},
   "source": [
    "### Using dictionary comprehension and enumerate()\n",
    "\n",
    "\n",
    "Used dictionary comprehension to automate the whole process.\n",
    "\n",
    "Making the list unique, so the tuple contains an index rather than a count."
   ]
  },
  {
   "cell_type": "code",
   "execution_count": 5,
   "id": "9fff80c3",
   "metadata": {},
   "outputs": [
    {
     "data": {
      "text/html": [
       "<div>\n",
       "<style scoped>\n",
       "    .dataframe tbody tr th:only-of-type {\n",
       "        vertical-align: middle;\n",
       "    }\n",
       "\n",
       "    .dataframe tbody tr th {\n",
       "        vertical-align: top;\n",
       "    }\n",
       "\n",
       "    .dataframe thead th {\n",
       "        text-align: right;\n",
       "    }\n",
       "</style>\n",
       "<table border=\"1\" class=\"dataframe\">\n",
       "  <thead>\n",
       "    <tr style=\"text-align: right;\">\n",
       "      <th></th>\n",
       "      <th>make</th>\n",
       "      <th>model</th>\n",
       "      <th>year</th>\n",
       "      <th>color</th>\n",
       "      <th>curr_mileage</th>\n",
       "      <th>purchase_price</th>\n",
       "      <th>curr_value</th>\n",
       "      <th>stolen</th>\n",
       "    </tr>\n",
       "  </thead>\n",
       "  <tbody>\n",
       "    <tr>\n",
       "      <th>0</th>\n",
       "      <td>Volkswagen</td>\n",
       "      <td>15</td>\n",
       "      <td>2015</td>\n",
       "      <td>black</td>\n",
       "      <td>152000</td>\n",
       "      <td>32000</td>\n",
       "      <td>9000</td>\n",
       "      <td>Not stolen</td>\n",
       "    </tr>\n",
       "    <tr>\n",
       "      <th>1</th>\n",
       "      <td>Ford</td>\n",
       "      <td>13</td>\n",
       "      <td>2008</td>\n",
       "      <td>blue</td>\n",
       "      <td>225000</td>\n",
       "      <td>14500</td>\n",
       "      <td>3500</td>\n",
       "      <td>Not stolen</td>\n",
       "    </tr>\n",
       "    <tr>\n",
       "      <th>2</th>\n",
       "      <td>Dodge</td>\n",
       "      <td>11</td>\n",
       "      <td>1998</td>\n",
       "      <td>blue</td>\n",
       "      <td>235500</td>\n",
       "      <td>19000</td>\n",
       "      <td>2000</td>\n",
       "      <td>Not stolen</td>\n",
       "    </tr>\n",
       "    <tr>\n",
       "      <th>3</th>\n",
       "      <td>BMW</td>\n",
       "      <td>0</td>\n",
       "      <td>2004</td>\n",
       "      <td>silver</td>\n",
       "      <td>104200</td>\n",
       "      <td>32000</td>\n",
       "      <td>8200</td>\n",
       "      <td>Not stolen</td>\n",
       "    </tr>\n",
       "    <tr>\n",
       "      <th>4</th>\n",
       "      <td>Honda</td>\n",
       "      <td>2</td>\n",
       "      <td>1995</td>\n",
       "      <td>silver</td>\n",
       "      <td>185800</td>\n",
       "      <td>8500</td>\n",
       "      <td>2000</td>\n",
       "      <td>Not stolen</td>\n",
       "    </tr>\n",
       "  </tbody>\n",
       "</table>\n",
       "</div>"
      ],
      "text/plain": [
       "         make  model  year   color  curr_mileage  purchase_price  curr_value  \\\n",
       "0  Volkswagen     15  2015   black        152000           32000        9000   \n",
       "1        Ford     13  2008    blue        225000           14500        3500   \n",
       "2       Dodge     11  1998    blue        235500           19000        2000   \n",
       "3         BMW      0  2004  silver        104200           32000        8200   \n",
       "4       Honda      2  1995  silver        185800            8500        2000   \n",
       "\n",
       "       stolen  \n",
       "0  Not stolen  \n",
       "1  Not stolen  \n",
       "2  Not stolen  \n",
       "3  Not stolen  \n",
       "4  Not stolen  "
      ]
     },
     "execution_count": 5,
     "metadata": {},
     "output_type": "execute_result"
    }
   ],
   "source": [
    "models = np.unique(vehicles['model'])\n",
    "map_model = {k: v for v, k in enumerate(models)}\n",
    "vehicles.replace({'model': map_model}, inplace=True)\n",
    "vehicles.head()"
   ]
  },
  {
   "cell_type": "markdown",
   "id": "e592ff00",
   "metadata": {},
   "source": [
    "### Repeated this process for other columns."
   ]
  },
  {
   "cell_type": "code",
   "execution_count": 6,
   "id": "b2e6b6bf",
   "metadata": {},
   "outputs": [
    {
     "data": {
      "text/html": [
       "<div>\n",
       "<style scoped>\n",
       "    .dataframe tbody tr th:only-of-type {\n",
       "        vertical-align: middle;\n",
       "    }\n",
       "\n",
       "    .dataframe tbody tr th {\n",
       "        vertical-align: top;\n",
       "    }\n",
       "\n",
       "    .dataframe thead th {\n",
       "        text-align: right;\n",
       "    }\n",
       "</style>\n",
       "<table border=\"1\" class=\"dataframe\">\n",
       "  <thead>\n",
       "    <tr style=\"text-align: right;\">\n",
       "      <th></th>\n",
       "      <th>make</th>\n",
       "      <th>model</th>\n",
       "      <th>year</th>\n",
       "      <th>color</th>\n",
       "      <th>curr_mileage</th>\n",
       "      <th>purchase_price</th>\n",
       "      <th>curr_value</th>\n",
       "      <th>stolen</th>\n",
       "    </tr>\n",
       "  </thead>\n",
       "  <tbody>\n",
       "    <tr>\n",
       "      <th>0</th>\n",
       "      <td>10</td>\n",
       "      <td>15</td>\n",
       "      <td>2015</td>\n",
       "      <td>0</td>\n",
       "      <td>152000</td>\n",
       "      <td>32000</td>\n",
       "      <td>9000</td>\n",
       "      <td>0</td>\n",
       "    </tr>\n",
       "    <tr>\n",
       "      <th>1</th>\n",
       "      <td>3</td>\n",
       "      <td>13</td>\n",
       "      <td>2008</td>\n",
       "      <td>1</td>\n",
       "      <td>225000</td>\n",
       "      <td>14500</td>\n",
       "      <td>3500</td>\n",
       "      <td>0</td>\n",
       "    </tr>\n",
       "    <tr>\n",
       "      <th>2</th>\n",
       "      <td>2</td>\n",
       "      <td>11</td>\n",
       "      <td>1998</td>\n",
       "      <td>1</td>\n",
       "      <td>235500</td>\n",
       "      <td>19000</td>\n",
       "      <td>2000</td>\n",
       "      <td>0</td>\n",
       "    </tr>\n",
       "    <tr>\n",
       "      <th>3</th>\n",
       "      <td>0</td>\n",
       "      <td>0</td>\n",
       "      <td>2004</td>\n",
       "      <td>3</td>\n",
       "      <td>104200</td>\n",
       "      <td>32000</td>\n",
       "      <td>8200</td>\n",
       "      <td>0</td>\n",
       "    </tr>\n",
       "    <tr>\n",
       "      <th>4</th>\n",
       "      <td>4</td>\n",
       "      <td>2</td>\n",
       "      <td>1995</td>\n",
       "      <td>3</td>\n",
       "      <td>185800</td>\n",
       "      <td>8500</td>\n",
       "      <td>2000</td>\n",
       "      <td>0</td>\n",
       "    </tr>\n",
       "  </tbody>\n",
       "</table>\n",
       "</div>"
      ],
      "text/plain": [
       "   make  model  year  color  curr_mileage  purchase_price  curr_value  stolen\n",
       "0    10     15  2015      0        152000           32000        9000       0\n",
       "1     3     13  2008      1        225000           14500        3500       0\n",
       "2     2     11  1998      1        235500           19000        2000       0\n",
       "3     0      0  2004      3        104200           32000        8200       0\n",
       "4     4      2  1995      3        185800            8500        2000       0"
      ]
     },
     "execution_count": 6,
     "metadata": {},
     "output_type": "execute_result"
    }
   ],
   "source": [
    "makes = np.unique(vehicles['make'])\n",
    "map_make = {k: v for v, k in enumerate(makes)}\n",
    "vehicles.replace({'make': map_make}, inplace=True)\n",
    "\n",
    "colors = np.unique(vehicles['color'])\n",
    "map_color = {k: v for v, k in enumerate(colors)}\n",
    "vehicles.replace({'color': map_color}, inplace=True)\n",
    "\n",
    "stolens = np.unique(vehicles['stolen'])\n",
    "map_stolens = {k: v for v, k in enumerate(stolens)}\n",
    "vehicles.replace({'stolen': map_stolens}, inplace=True)\n",
    "vehicles.head()"
   ]
  },
  {
   "cell_type": "markdown",
   "id": "c72cf7a9",
   "metadata": {},
   "source": [
    "### Created X and y datasets, split datasets, and fit the KNN, to obtain score"
   ]
  },
  {
   "cell_type": "code",
   "execution_count": 7,
   "id": "7e2b0062",
   "metadata": {},
   "outputs": [
    {
     "name": "stdout",
     "output_type": "stream",
     "text": [
      "Score:  0.714\n"
     ]
    }
   ],
   "source": [
    "y = vehicles['stolen']\n",
    "X = vehicles.drop(['stolen'], axis=1)\n",
    "X_train, X_test, y_train, y_test = train_test_split(X, y, test_size = 0.3)\n",
    "knn = KNeighborsClassifier(n_neighbors = 3)\n",
    "knn.fit(X_train, y_train)\n",
    "print(\"Score: \", knn.score(X_test, y_test).round(3))"
   ]
  },
  {
   "cell_type": "markdown",
   "id": "15028382",
   "metadata": {},
   "source": [
    "### Created sample data to make predictions with KNN machine\n",
    "\n",
    "\n",
    "\n",
    "    # make | model | year | color | mileage | purchase_price | current_value\n",
    "    [3,3,2016,0,185000,22450,8250]\n",
    "    [0,0,2022,0,6000,74000,64800]\n",
    "    \n",
    "    Using these predictors to deteremine if a vehicle will be stolen. \n",
    "    Stolen or Not Stolen = Target Data"
   ]
  },
  {
   "cell_type": "code",
   "execution_count": 8,
   "id": "34596923",
   "metadata": {},
   "outputs": [
    {
     "data": {
      "text/plain": [
       "'Not stolen'"
      ]
     },
     "execution_count": 8,
     "metadata": {},
     "output_type": "execute_result"
    }
   ],
   "source": [
    "# re-fit model with values only to avoid warning\n",
    "knn.fit(X_train.values, y_train.values)\n",
    "\n",
    "prediction = knn.predict([[3,3,2016,0,185000,22450,8250]])\n",
    "stolens[prediction[0]]"
   ]
  },
  {
   "cell_type": "code",
   "execution_count": 9,
   "id": "97a87b90",
   "metadata": {},
   "outputs": [
    {
     "data": {
      "text/plain": [
       "'Stolen'"
      ]
     },
     "execution_count": 9,
     "metadata": {},
     "output_type": "execute_result"
    }
   ],
   "source": [
    "prediction = knn.predict([[0,0,2022,0,6000,74000,64800]])\n",
    "stolens[prediction[0]]"
   ]
  }
 ],
 "metadata": {
  "kernelspec": {
   "display_name": "Python 3 (ipykernel)",
   "language": "python",
   "name": "python3"
  },
  "language_info": {
   "codemirror_mode": {
    "name": "ipython",
    "version": 3
   },
   "file_extension": ".py",
   "mimetype": "text/x-python",
   "name": "python",
   "nbconvert_exporter": "python",
   "pygments_lexer": "ipython3",
   "version": "3.9.12"
  }
 },
 "nbformat": 4,
 "nbformat_minor": 5
}
